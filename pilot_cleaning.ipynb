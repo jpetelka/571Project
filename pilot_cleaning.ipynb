{
 "cells": [
  {
   "cell_type": "code",
   "execution_count": 1,
   "metadata": {},
   "outputs": [],
   "source": [
    "import pandas as pd, matplotlib as mpl\n",
    "import os"
   ]
  },
  {
   "cell_type": "code",
   "execution_count": 2,
   "metadata": {},
   "outputs": [
    {
     "name": "stdout",
     "output_type": "stream",
     "text": [
      "Python version: 3.6.0\n",
      "Pandas version: 0.23.4\n",
      "Matplotlib version: 2.1.1\n"
     ]
    }
   ],
   "source": [
    "# Dependency checks\n",
    "import sys\n",
    "print(\"Python version: \"+sys.version[:5]) # 3.6.0\n",
    "print(\"Pandas version: \"+pd.__version__) # 0.23.4\n",
    "print(\"Matplotlib version: \"+mpl.__version__) # 2.1.1"
   ]
  },
  {
   "cell_type": "code",
   "execution_count": 3,
   "metadata": {},
   "outputs": [],
   "source": [
    "for i in range(1,3)\n",
    "# Set batch number for file naming\n",
    "batch_n = \"2\"\n"
   ]
  },
  {
   "cell_type": "markdown",
   "metadata": {},
   "source": [
    "## Trimming columns from raw data"
   ]
  },
  {
   "cell_type": "code",
   "execution_count": 6,
   "metadata": {},
   "outputs": [],
   "source": [
    "# Read in pilot data file \n",
    "fname = \"raw_data/Batch\"+batch_n+\"/qual.csv\"\n",
    "df = pd.read_csv(fname,sep=\",\")[2:] # This index trims the first two rows"
   ]
  },
  {
   "cell_type": "code",
   "execution_count": 48,
   "metadata": {},
   "outputs": [],
   "source": [
    "# I manuallly trimmed some columns\n",
    "# cols = str(df.columns.values.tolist())\n",
    "# f = open(\"filtered_columns.txt\", \"w\")\n",
    "# f.write(cols)\n",
    "# f.close()"
   ]
  },
  {
   "cell_type": "code",
   "execution_count": 29,
   "metadata": {},
   "outputs": [],
   "source": [
    "# import ast\n",
    "# file = open(\"filtered_columns.txt\",\"r\")\n",
    "# cols = ast.literal_eval(file.read())\n",
    "# file.close()"
   ]
  },
  {
   "cell_type": "code",
   "execution_count": 30,
   "metadata": {},
   "outputs": [
    {
     "data": {
      "text/plain": [
       "270"
      ]
     },
     "execution_count": 30,
     "metadata": {},
     "output_type": "execute_result"
    }
   ],
   "source": [
    "# Should be different by 270 columns (-27 (9 platforms x 3 questions) columns * 10 platforms )\n",
    "# len(df.columns) - len(df[cols].columns)"
   ]
  },
  {
   "cell_type": "code",
   "execution_count": 31,
   "metadata": {},
   "outputs": [],
   "source": [
    "# Save sample.csv which has trimmed columns\n",
    "# df[cols][2:].to_csv(\"raw_data/Batch\"+batch_n+\"/sample.csv\",index=False) ## Remove the top two rows"
   ]
  },
  {
   "cell_type": "code",
   "execution_count": 32,
   "metadata": {},
   "outputs": [],
   "source": [
    "# df = df[cols][2:]"
   ]
  },
  {
   "cell_type": "markdown",
   "metadata": {},
   "source": [
    "## Create a table for our class paper hypotheses (INSC571)"
   ]
  },
  {
   "cell_type": "code",
   "execution_count": 33,
   "metadata": {},
   "outputs": [],
   "source": [
    "# Make a new df to hold the first table\n",
    "# Table columns will be [subject, fb_use,fb_fight,ig_use,ig_fight]\n",
    "df_final = pd.DataFrame([],columns=[\"subject\",\"fb_use\",\"fb_fight\",\"ig_use\",\"ig_fight\",\"pol\",\"edu\"])\n",
    "df_final.subject = [x for x in df.reward_code] # Set subject number to reward code for now"
   ]
  },
  {
   "cell_type": "code",
   "execution_count": 229,
   "metadata": {},
   "outputs": [],
   "source": [
    "# Find if a string paramater (platform) was used by a participant\n",
    "def evaluate_used_platforms(_df, platform):\n",
    "    # Create a list of lists of individual platforms\n",
    "    platforms = _df.Platform_Use.str.split(\",\")\n",
    "    \n",
    "    # Return a list of binaries (True if platform found, else False)\n",
    "    return [1 if platform in x else 0 for x in platforms ]"
   ]
  },
  {
   "cell_type": "code",
   "execution_count": 35,
   "metadata": {},
   "outputs": [],
   "source": [
    "# Set use columns\n",
    "df_final.fb_use = evaluate_used_platforms(df,\"Facebook\")\n",
    "df_final.ig_use = evaluate_used_platforms(df,\"Instagram\")"
   ]
  },
  {
   "cell_type": "code",
   "execution_count": 230,
   "metadata": {},
   "outputs": [],
   "source": [
    "# Find if a string paramater (platform) was used to fight by a participant\n",
    "def evaluate_fighting_platforms(_df, platform):\n",
    "    # Create a list of lists of individual platforms\n",
    "    platforms = _df.Platform_Fights.str.split(\",\")\n",
    "    # Return a list of binaries (True if platform found, else False)\n",
    "    return [1 if platform in x else 0 for x in platforms ]"
   ]
  },
  {
   "cell_type": "code",
   "execution_count": 37,
   "metadata": {},
   "outputs": [],
   "source": [
    "# Set fighting columns\n",
    "df_final.fb_fight = evaluate_fighting_platforms(df,\"Facebook\")\n",
    "df_final.ig_fight = evaluate_fighting_platforms(df,\"Instagram\")"
   ]
  },
  {
   "cell_type": "code",
   "execution_count": 38,
   "metadata": {},
   "outputs": [],
   "source": [
    "# Find political leaning\n",
    "def evaluate_political_leaning(_df):\n",
    "    # Create a dictionary to hold the scale values\n",
    "    d = {\n",
    "        \"Extremely liberal\":1,\n",
    "        \"Very liberal\":2,\n",
    "        \"Somewhat liberal\":3,\n",
    "        \"Moderate\":4,\n",
    "        \"Somewhat conservative\":5,\n",
    "        \"Very conservative\":6,\n",
    "        \"Extremely conservative\":7,\n",
    "    }\n",
    "    return _df.political_leaning.replace(d).values # Use values property to ignore indexing problems"
   ]
  },
  {
   "cell_type": "code",
   "execution_count": 39,
   "metadata": {},
   "outputs": [],
   "source": [
    "df_final.pol = evaluate_political_leaning(df)"
   ]
  },
  {
   "cell_type": "code",
   "execution_count": 40,
   "metadata": {},
   "outputs": [],
   "source": [
    "# Find education level\n",
    "def evaluate_eduation_level(_df):\n",
    "    d = {\n",
    "        \"Some high school\":1,\n",
    "        \"High school degree or equivalent (e.g. GED)\":2,\n",
    "        \"Some college\":3,\n",
    "        \"Associate degree (e.g. AA, AS)\":4,\n",
    "        \"Bachelor's degree (e.g. BA, BS)\":5,\n",
    "        \"Master's degree (e.g. MA, MS, MEd)\":6,\n",
    "        \"Professional degree (e.g. MD, DDS, DVM)\":7,\n",
    "        \"Doctorate (e.g. PhD, EdD)\":8,\n",
    "    }\n",
    "    return _df.education.replace(d).values "
   ]
  },
  {
   "cell_type": "code",
   "execution_count": 41,
   "metadata": {},
   "outputs": [],
   "source": [
    "df_final.edu = evaluate_eduation_level(df)"
   ]
  },
  {
   "cell_type": "code",
   "execution_count": 42,
   "metadata": {},
   "outputs": [],
   "source": [
    "df_final = df_final.astype(\"int64\",errors=\"ignore\") # Change binary to numeric, ignore values that can't be changed to int (NA, eduation)"
   ]
  },
  {
   "cell_type": "code",
   "execution_count": 43,
   "metadata": {},
   "outputs": [],
   "source": [
    "df_final.subject = df_final.index + 1 # Change from reward_code to number\n",
    "df_final = df_final.set_index(df_final.subject).iloc[:,1:]"
   ]
  },
  {
   "cell_type": "code",
   "execution_count": 44,
   "metadata": {},
   "outputs": [
    {
     "data": {
      "text/html": [
       "<div>\n",
       "<style scoped>\n",
       "    .dataframe tbody tr th:only-of-type {\n",
       "        vertical-align: middle;\n",
       "    }\n",
       "\n",
       "    .dataframe tbody tr th {\n",
       "        vertical-align: top;\n",
       "    }\n",
       "\n",
       "    .dataframe thead th {\n",
       "        text-align: right;\n",
       "    }\n",
       "</style>\n",
       "<table border=\"1\" class=\"dataframe\">\n",
       "  <thead>\n",
       "    <tr style=\"text-align: right;\">\n",
       "      <th></th>\n",
       "      <th>fb_use</th>\n",
       "      <th>fb_fight</th>\n",
       "      <th>ig_use</th>\n",
       "      <th>ig_fight</th>\n",
       "      <th>pol</th>\n",
       "      <th>edu</th>\n",
       "    </tr>\n",
       "    <tr>\n",
       "      <th>subject</th>\n",
       "      <th></th>\n",
       "      <th></th>\n",
       "      <th></th>\n",
       "      <th></th>\n",
       "      <th></th>\n",
       "      <th></th>\n",
       "    </tr>\n",
       "  </thead>\n",
       "  <tbody>\n",
       "    <tr>\n",
       "      <th>1</th>\n",
       "      <td>1</td>\n",
       "      <td>1</td>\n",
       "      <td>0</td>\n",
       "      <td>0</td>\n",
       "      <td>4</td>\n",
       "      <td>5</td>\n",
       "    </tr>\n",
       "    <tr>\n",
       "      <th>2</th>\n",
       "      <td>1</td>\n",
       "      <td>1</td>\n",
       "      <td>1</td>\n",
       "      <td>0</td>\n",
       "      <td>3</td>\n",
       "      <td>5</td>\n",
       "    </tr>\n",
       "    <tr>\n",
       "      <th>3</th>\n",
       "      <td>1</td>\n",
       "      <td>1</td>\n",
       "      <td>1</td>\n",
       "      <td>0</td>\n",
       "      <td>2</td>\n",
       "      <td>3</td>\n",
       "    </tr>\n",
       "    <tr>\n",
       "      <th>4</th>\n",
       "      <td>1</td>\n",
       "      <td>0</td>\n",
       "      <td>1</td>\n",
       "      <td>0</td>\n",
       "      <td>5</td>\n",
       "      <td>2</td>\n",
       "    </tr>\n",
       "    <tr>\n",
       "      <th>5</th>\n",
       "      <td>1</td>\n",
       "      <td>1</td>\n",
       "      <td>0</td>\n",
       "      <td>0</td>\n",
       "      <td>1</td>\n",
       "      <td>2</td>\n",
       "    </tr>\n",
       "    <tr>\n",
       "      <th>6</th>\n",
       "      <td>1</td>\n",
       "      <td>1</td>\n",
       "      <td>1</td>\n",
       "      <td>0</td>\n",
       "      <td>6</td>\n",
       "      <td>5</td>\n",
       "    </tr>\n",
       "    <tr>\n",
       "      <th>7</th>\n",
       "      <td>1</td>\n",
       "      <td>1</td>\n",
       "      <td>1</td>\n",
       "      <td>0</td>\n",
       "      <td>3</td>\n",
       "      <td>3</td>\n",
       "    </tr>\n",
       "    <tr>\n",
       "      <th>8</th>\n",
       "      <td>1</td>\n",
       "      <td>1</td>\n",
       "      <td>0</td>\n",
       "      <td>0</td>\n",
       "      <td>1</td>\n",
       "      <td>5</td>\n",
       "    </tr>\n",
       "    <tr>\n",
       "      <th>9</th>\n",
       "      <td>1</td>\n",
       "      <td>1</td>\n",
       "      <td>1</td>\n",
       "      <td>0</td>\n",
       "      <td>3</td>\n",
       "      <td>5</td>\n",
       "    </tr>\n",
       "  </tbody>\n",
       "</table>\n",
       "</div>"
      ],
      "text/plain": [
       "         fb_use  fb_fight  ig_use  ig_fight  pol  edu\n",
       "subject                                              \n",
       "1             1         1       0         0    4    5\n",
       "2             1         1       1         0    3    5\n",
       "3             1         1       1         0    2    3\n",
       "4             1         0       1         0    5    2\n",
       "5             1         1       0         0    1    2\n",
       "6             1         1       1         0    6    5\n",
       "7             1         1       1         0    3    3\n",
       "8             1         1       0         0    1    5\n",
       "9             1         1       1         0    3    5"
      ]
     },
     "execution_count": 44,
     "metadata": {},
     "output_type": "execute_result"
    }
   ],
   "source": [
    "df_final"
   ]
  },
  {
   "cell_type": "code",
   "execution_count": 45,
   "metadata": {},
   "outputs": [],
   "source": [
    "# Print CSV of first table\n",
    "fpath = \"transformed_data/pilot_platform_use\"+batch_n+\".csv\"\n",
    "df_final.to_csv(fpath,sep=\",\")"
   ]
  },
  {
   "cell_type": "code",
   "execution_count": null,
   "metadata": {},
   "outputs": [],
   "source": []
  },
  {
   "cell_type": "markdown",
   "metadata": {},
   "source": [
    "# Aggregating tables"
   ]
  },
  {
   "cell_type": "code",
   "execution_count": 96,
   "metadata": {},
   "outputs": [],
   "source": [
    "# Go through each batch folder, grab the qual.csv data, append to master data frame"
   ]
  },
  {
   "cell_type": "code",
   "execution_count": 190,
   "metadata": {},
   "outputs": [
    {
     "name": "stdout",
     "output_type": "stream",
     "text": [
      "10\n",
      "19\n"
     ]
    }
   ],
   "source": [
    "# Create a master dataframe to hold all the batches\n",
    "df_master = pd.DataFrame([])\n",
    "\n",
    "# Grab and merge the sample csvs\n",
    "for i in range(1,3):\n",
    "    batch = str(i)\n",
    "    df_n = pd.read_csv(\"raw_data/Batch\"+batch+\"/sample.csv\")\n",
    "    df_master = pd.concat([df_master,df_n])\n",
    "    print(len(df_master))"
   ]
  },
  {
   "cell_type": "code",
   "execution_count": 213,
   "metadata": {},
   "outputs": [],
   "source": [
    "df = df_master.loc[:,\"Platform_Use\":] # Drop the qualtrics identifying data"
   ]
  },
  {
   "cell_type": "code",
   "execution_count": 214,
   "metadata": {},
   "outputs": [],
   "source": [
    "# Print for Alexis\n",
    "df[\"Duration\"] = df_master[\"Duration (in seconds)\"]\n",
    "# df.to_csv(\"edited_survey_data.csv\",sep=\",\",index=False)"
   ]
  },
  {
   "cell_type": "markdown",
   "metadata": {},
   "source": [
    "## Find usage and fights for all platforms"
   ]
  },
  {
   "cell_type": "code",
   "execution_count": 215,
   "metadata": {},
   "outputs": [],
   "source": [
    "# Graph platform use\n",
    "# df_final = df[[\"Platform_Use\",\"Platform_Fights\"]]"
   ]
  },
  {
   "cell_type": "code",
   "execution_count": null,
   "metadata": {},
   "outputs": [],
   "source": []
  },
  {
   "cell_type": "code",
   "execution_count": 231,
   "metadata": {},
   "outputs": [],
   "source": [
    "df_final = pd.DataFrame([])\n",
    "# df_final.index.name = \"subject\"\n",
    "# df_final.index = range(len(df.index)) # Set subject number to reward code for now"
   ]
  },
  {
   "cell_type": "code",
   "execution_count": null,
   "metadata": {},
   "outputs": [],
   "source": [
    "# Set column name - platform mapping\n",
    "pref = [[\"fb_\", \"Facebook\"],\n",
    "        [\"ig_\", \"Instagram\"],\n",
    "        [\"fbm_\", \"Facebook Messenger\"],\n",
    "        [\"wa_\", \"WhatsApp\"],\n",
    "        [\"wc_\",\"WeChat\"],\n",
    "        [\"tblr_\", \"Tumblr\"],\n",
    "        [\"red_\", \"Reddit\"],\n",
    "        [\"sc_\", \"Snapchat\"],\n",
    "        [\"yt_\", \"Youtube\"],\n",
    "        [\"twt_\", \"Twitter\"],]"
   ]
  },
  {
   "cell_type": "code",
   "execution_count": 276,
   "metadata": {},
   "outputs": [
    {
     "data": {
      "text/plain": [
       "['Facebook',\n",
       " 'Instagram',\n",
       " 'Facebook Messenger',\n",
       " 'WhatsApp',\n",
       " 'WeChat',\n",
       " 'Tumblr',\n",
       " 'Reddit',\n",
       " 'Snapchat',\n",
       " 'Youtube',\n",
       " 'Twitter']"
      ]
     },
     "execution_count": 276,
     "metadata": {},
     "output_type": "execute_result"
    }
   ],
   "source": [
    "platforms = [x[1] for x in pref]"
   ]
  },
  {
   "cell_type": "code",
   "execution_count": 232,
   "metadata": {},
   "outputs": [],
   "source": [
    "suf = \"_use\"\n",
    "for item in pref:\n",
    "    df_final[item[0]+suf] = evaluate_used_platforms(df_master,item[1])"
   ]
  },
  {
   "cell_type": "code",
   "execution_count": 233,
   "metadata": {},
   "outputs": [],
   "source": [
    "suf = \"_fight\"\n",
    "\n",
    "for item in pref:\n",
    "    df_final[item[0]+suf] = evaluate_fighting_platforms(df_master,item[1])"
   ]
  },
  {
   "cell_type": "code",
   "execution_count": 235,
   "metadata": {},
   "outputs": [],
   "source": [
    "# df_final.set_index(df_final.subject,inplace=True)\n",
    "df_final.index.name=\"subject\"\n",
    "df_final.index = df_final.index + 1"
   ]
  },
  {
   "cell_type": "code",
   "execution_count": 238,
   "metadata": {},
   "outputs": [],
   "source": [
    "df_final[\"edu\"] = evaluate_eduation_level(df_master)\n",
    "df_final[\"pol\"] = evaluate_political_leaning(df_master)"
   ]
  },
  {
   "cell_type": "code",
   "execution_count": 199,
   "metadata": {},
   "outputs": [
    {
     "data": {
      "text/plain": [
       "count    19.000000\n",
       "mean      8.535088\n",
       "std       5.090659\n",
       "min       1.816667\n",
       "25%       6.091667\n",
       "50%       8.133333\n",
       "75%       9.975000\n",
       "max      23.933333\n",
       "Name: Duration, dtype: float64"
      ]
     },
     "execution_count": 199,
     "metadata": {},
     "output_type": "execute_result"
    }
   ],
   "source": [
    "(df.Duration/60).describe()"
   ]
  },
  {
   "cell_type": "code",
   "execution_count": 278,
   "metadata": {},
   "outputs": [],
   "source": [
    "df_final.to_csv(\"master_table.csv\",sep=\",\",index=False)"
   ]
  },
  {
   "cell_type": "code",
   "execution_count": 29,
   "metadata": {},
   "outputs": [
    {
     "data": {
      "text/plain": [
       "1      986\n",
       "4      601\n",
       "9     1436\n",
       "11     629\n",
       "12     650\n",
       "Name: Duration, dtype: int64"
      ]
     },
     "execution_count": 29,
     "metadata": {},
     "output_type": "execute_result"
    }
   ],
   "source": [
    "test = pd.read_csv(\"edited_survey_data.csv\",sep=\",\")\n",
    "test[test.Duration > 600].Duration"
   ]
  },
  {
   "cell_type": "markdown",
   "metadata": {},
   "source": [
    "## Visualizations"
   ]
  },
  {
   "cell_type": "code",
   "execution_count": 260,
   "metadata": {},
   "outputs": [],
   "source": [
    "import matplotlib.pyplot as plt\n",
    "import numpy as np\n",
    "%matplotlib inline"
   ]
  },
  {
   "cell_type": "code",
   "execution_count": null,
   "metadata": {},
   "outputs": [],
   "source": [
    "# What are fight / use rates like"
   ]
  },
  {
   "cell_type": "code",
   "execution_count": 243,
   "metadata": {},
   "outputs": [],
   "source": [
    "use_cols = df_final.columns[df_final.columns.str.contains(\"use\")]\n",
    "fight_cols = df_final.columns[df_final.columns.str.contains(\"fight\")]"
   ]
  },
  {
   "cell_type": "code",
   "execution_count": 244,
   "metadata": {},
   "outputs": [
    {
     "data": {
      "text/plain": [
       "fb__use      18\n",
       "ig__use      11\n",
       "fbm__use     10\n",
       "wa__use       2\n",
       "wc__use       0\n",
       "tblr__use     0\n",
       "red__use     13\n",
       "sc__use       4\n",
       "yt__use      14\n",
       "twt__use     14\n",
       "dtype: int64"
      ]
     },
     "execution_count": 244,
     "metadata": {},
     "output_type": "execute_result"
    }
   ],
   "source": [
    "df_final[use_cols].sum()"
   ]
  },
  {
   "cell_type": "code",
   "execution_count": 254,
   "metadata": {},
   "outputs": [
    {
     "data": {
      "text/plain": [
       "19"
      ]
     },
     "execution_count": 254,
     "metadata": {},
     "output_type": "execute_result"
    }
   ],
   "source": [
    "len(df_final)"
   ]
  },
  {
   "cell_type": "code",
   "execution_count": 270,
   "metadata": {},
   "outputs": [
    {
     "data": {
      "text/plain": [
       "fb__use      18\n",
       "ig__use      11\n",
       "fbm__use     10\n",
       "wa__use       2\n",
       "wc__use       0\n",
       "tblr__use     0\n",
       "red__use     13\n",
       "sc__use       4\n",
       "yt__use      14\n",
       "twt__use     14\n",
       "dtype: int64"
      ]
     },
     "execution_count": 270,
     "metadata": {},
     "output_type": "execute_result"
    }
   ],
   "source": [
    "use"
   ]
  },
  {
   "cell_type": "code",
   "execution_count": 268,
   "metadata": {},
   "outputs": [
    {
     "data": {
      "text/plain": [
       "fb__fight      15\n",
       "ig__fight       0\n",
       "fbm__fight      4\n",
       "wa__fight       1\n",
       "wc__fight       0\n",
       "tblr__fight     0\n",
       "red__fight      5\n",
       "sc__fight       1\n",
       "yt__fight       1\n",
       "twt__fight      2\n",
       "dtype: int64"
      ]
     },
     "execution_count": 268,
     "metadata": {},
     "output_type": "execute_result"
    }
   ],
   "source": [
    "fights"
   ]
  },
  {
   "cell_type": "code",
   "execution_count": 287,
   "metadata": {},
   "outputs": [
    {
     "data": {
      "image/png": "[encoded data removed]",
      "text/plain": [
       "<matplotlib.figure.Figure at 0x9baa3f0>"
      ]
     },
     "metadata": {},
     "output_type": "display_data"
    }
   ],
   "source": [
    "fig = plt.figure(num=None, figsize=(16,7))\n",
    "\n",
    "use = df_final[use_cols].sum()\n",
    "fights = df_final[fight_cols].sum()\n",
    "\n",
    "N = 10 #number of platforms\n",
    "ind = np.arange(N)\n",
    "\n",
    "p1 = plt.bar(ind, use.values, color=\"blue\")\n",
    "p2 = plt.bar(ind, fights.values, color=\"red\")\n",
    "\n",
    "plt.ylabel(\"Count\")\n",
    "plt.title(\"Platform Usage and Fights\")\n",
    "plt.xlabel(\"Platforms\")\n",
    "plt.xticks(ind, platforms)\n",
    "plt.yticks(np.arange(0,18,step=2))\n",
    "plt.legend([\"Use\",\"Fights\"])\n",
    "\n",
    "plt.show()\n",
    "\n",
    "fig.savefig(\"platform_use.png\")"
   ]
  },
  {
   "cell_type": "code",
   "execution_count": null,
   "metadata": {},
   "outputs": [],
   "source": []
  }
 ],
 "metadata": {
  "kernelspec": {
   "display_name": "Python 3",
   "language": "python",
   "name": "python3"
  },
  "language_info": {
   "codemirror_mode": {
    "name": "ipython",
    "version": 3
   },
   "file_extension": ".py",
   "mimetype": "text/x-python",
   "name": "python",
   "nbconvert_exporter": "python",
   "pygments_lexer": "ipython3",
   "version": "3.6.0"
  }
 },
 "nbformat": 4,
 "nbformat_minor": 2
}
